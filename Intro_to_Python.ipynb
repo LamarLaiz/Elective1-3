{
  "nbformat": 4,
  "nbformat_minor": 0,
  "metadata": {
    "colab": {
      "name": "Intro to Python.ipynb",
      "provenance": [],
      "authorship_tag": "ABX9TyOdduWSlshWeoBJt1V4MhwR",
      "include_colab_link": true
    },
    "kernelspec": {
      "name": "python3",
      "display_name": "Python 3"
    },
    "language_info": {
      "name": "python"
    }
  },
  "cells": [
    {
      "cell_type": "markdown",
      "metadata": {
        "id": "view-in-github",
        "colab_type": "text"
      },
      "source": [
        "<a href=\"https://colab.research.google.com/github/LamarLaiz/Elective1-3/blob/main/Intro_to_Python.ipynb\" target=\"_parent\"><img src=\"https://colab.research.google.com/assets/colab-badge.svg\" alt=\"Open In Colab\"/></a>"
      ]
    },
    {
      "cell_type": "markdown",
      "source": [
        "##Python Indention"
      ],
      "metadata": {
        "id": "51elKd0pbIdt"
      }
    },
    {
      "cell_type": "code",
      "execution_count": 4,
      "metadata": {
        "colab": {
          "base_uri": "https://localhost:8080/"
        },
        "id": "BKGCqj4tZLLn",
        "outputId": "332d7505-d323-4a11-838b-ca7fd1431580"
      },
      "outputs": [
        {
          "output_type": "stream",
          "name": "stdout",
          "text": [
            "Five is greater than two\n"
          ]
        }
      ],
      "source": [
        "if 5<2:\n",
        "  print(\"Five is less than two\")\n",
        "else:\n",
        "  print(\"Five is greater than two\")"
      ]
    },
    {
      "cell_type": "markdown",
      "source": [
        "##Python Comments"
      ],
      "metadata": {
        "id": "sXc9nRB_cunv"
      }
    },
    {
      "cell_type": "code",
      "source": [
        "#This is a program that displays Hello, World\n",
        "\n",
        "print(\"Hello,World\")\n",
        "print('Welcome to Python Programming')"
      ],
      "metadata": {
        "colab": {
          "base_uri": "https://localhost:8080/"
        },
        "id": "xSRpmNzYcwg7",
        "outputId": "3b554dab-b1b1-459f-b4b8-3e2be92c1450"
      },
      "execution_count": 5,
      "outputs": [
        {
          "output_type": "stream",
          "name": "stdout",
          "text": [
            "Hello,World\n",
            "Welcome to Python Programming\n"
          ]
        }
      ]
    }
  ]
}